{
 "cells": [
  {
   "cell_type": "markdown",
   "metadata": {},
   "source": [
    "## Importing modules"
   ]
  },
  {
   "cell_type": "code",
   "execution_count": 227,
   "metadata": {},
   "outputs": [],
   "source": [
    "import matplotlib.pyplot as plt\n",
    "import numpy as np\n",
    "import tensorflow as tf\n",
    "from keras.models import Sequential\n",
    "from keras.layers import Dense, Flatten, Conv2D, MaxPooling2D, Input"
   ]
  },
  {
   "cell_type": "markdown",
   "metadata": {},
   "source": [
    "## Loading Data and Preprocessing"
   ]
  },
  {
   "cell_type": "code",
   "execution_count": 228,
   "metadata": {},
   "outputs": [],
   "source": [
    "# Loading the data\n",
    "from sklearn.datasets import load_digits\n",
    "from tensorflow.keras.utils import to_categorical\n",
    "digits = load_digits()\n",
    "images = digits.images\n",
    "targets = digits.target\n",
    "targets_categorical = to_categorical(targets, num_classes=10)"
   ]
  },
  {
   "cell_type": "code",
   "execution_count": 229,
   "metadata": {},
   "outputs": [
    {
     "data": {
      "image/png": "[encoded data removed]",
      "text/plain": [
       "<Figure size 1000x400 with 10 Axes>"
      ]
     },
     "metadata": {},
     "output_type": "display_data"
    }
   ],
   "source": [
    "# Visualising our data\n",
    "plt.figure(figsize=(10, 4))\n",
    "\n",
    "# Display the first 10 images along with their target labels\n",
    "for i in range(10):\n",
    "    plt.subplot(2, 5, i + 1)  # 2 rows, 5 columns\n",
    "    plt.imshow(images[i], cmap='gray')\n",
    "    plt.title(f\"Label: {targets[i]}\")\n",
    "    plt.axis('off')\n"
   ]
  },
  {
   "cell_type": "code",
   "execution_count": 230,
   "metadata": {},
   "outputs": [],
   "source": [
    "# Preprocessing\n",
    "\n",
    "# Normalizing the images\n",
    "images = images / 16.0\n",
    "\n",
    "# Adding dimension to images\n",
    "images = np.expand_dims(images, axis=-1)  \n"
   ]
  },
  {
   "cell_type": "code",
   "execution_count": 231,
   "metadata": {},
   "outputs": [],
   "source": [
    "from sklearn.model_selection import train_test_split\n",
    "# Splitting our data\n",
    "X_train, X_test, y_train, y_test = train_test_split(images, targets_categorical, test_size=0.2, random_state=42)\n"
   ]
  },
  {
   "cell_type": "markdown",
   "metadata": {},
   "source": [
    "## Creating a CNN model"
   ]
  },
  {
   "cell_type": "code",
   "execution_count": 232,
   "metadata": {},
   "outputs": [],
   "source": [
    "model = Sequential()\n",
    "model.add(Conv2D(32, (3, 3), activation='relu', input_shape=(8, 8, 1)))\n",
    "model.add(MaxPooling2D())\n",
    "model.add(Conv2D(64, (3, 3), activation='relu'))\n",
    "model.add(Flatten())\n",
    "model.add(Dense(10, activation='softmax'))"
   ]
  },
  {
   "cell_type": "code",
   "execution_count": 233,
   "metadata": {},
   "outputs": [
    {
     "name": "stdout",
     "output_type": "stream",
     "text": [
      "Model: \"sequential_24\"\n",
      "_________________________________________________________________\n",
      " Layer (type)                Output Shape              Param #   \n",
      "=================================================================\n",
      " conv2d_40 (Conv2D)          (None, 6, 6, 32)          320       \n",
      "                                                                 \n",
      " max_pooling2d_28 (MaxPoolin  (None, 3, 3, 32)         0         \n",
      " g2D)                                                            \n",
      "                                                                 \n",
      " conv2d_41 (Conv2D)          (None, 1, 1, 64)          18496     \n",
      "                                                                 \n",
      " flatten_19 (Flatten)        (None, 64)                0         \n",
      "                                                                 \n",
      " dense_30 (Dense)            (None, 10)                650       \n",
      "                                                                 \n",
      "=================================================================\n",
      "Total params: 19,466\n",
      "Trainable params: 19,466\n",
      "Non-trainable params: 0\n",
      "_________________________________________________________________\n"
     ]
    }
   ],
   "source": [
    "model.summary()"
   ]
  },
  {
   "cell_type": "code",
   "execution_count": 234,
   "metadata": {},
   "outputs": [],
   "source": [
    "# Compile the model\n",
    "from tensorflow.keras.optimizers import Adam\n",
    "model.compile(optimizer=Adam(learning_rate=0.001), loss='categorical_crossentropy', metrics=['accuracy'])"
   ]
  },
  {
   "cell_type": "markdown",
   "metadata": {},
   "source": [
    "## Train the model"
   ]
  },
  {
   "cell_type": "code",
   "execution_count": 235,
   "metadata": {},
   "outputs": [
    {
     "name": "stdout",
     "output_type": "stream",
     "text": [
      "Epoch 1/10\n",
      "45/45 [==============================] - 1s 7ms/step - loss: 2.0747 - accuracy: 0.4168 - val_loss: 1.7339 - val_accuracy: 0.6333\n",
      "Epoch 2/10\n",
      "45/45 [==============================] - 0s 4ms/step - loss: 1.2596 - accuracy: 0.8253 - val_loss: 0.8197 - val_accuracy: 0.8361\n",
      "Epoch 3/10\n",
      "45/45 [==============================] - 0s 3ms/step - loss: 0.5835 - accuracy: 0.9123 - val_loss: 0.4170 - val_accuracy: 0.9167\n",
      "Epoch 4/10\n",
      "45/45 [==============================] - 0s 4ms/step - loss: 0.3501 - accuracy: 0.9290 - val_loss: 0.3078 - val_accuracy: 0.9278\n",
      "Epoch 5/10\n",
      "45/45 [==============================] - 0s 4ms/step - loss: 0.2612 - accuracy: 0.9415 - val_loss: 0.2331 - val_accuracy: 0.9472\n",
      "Epoch 6/10\n",
      "45/45 [==============================] - 0s 4ms/step - loss: 0.2041 - accuracy: 0.9541 - val_loss: 0.2033 - val_accuracy: 0.9528\n",
      "Epoch 7/10\n",
      "45/45 [==============================] - 0s 4ms/step - loss: 0.1690 - accuracy: 0.9596 - val_loss: 0.1620 - val_accuracy: 0.9694\n",
      "Epoch 8/10\n",
      "45/45 [==============================] - 0s 4ms/step - loss: 0.1507 - accuracy: 0.9617 - val_loss: 0.1412 - val_accuracy: 0.9722\n",
      "Epoch 9/10\n",
      "45/45 [==============================] - 0s 4ms/step - loss: 0.1294 - accuracy: 0.9673 - val_loss: 0.1310 - val_accuracy: 0.9667\n",
      "Epoch 10/10\n",
      "45/45 [==============================] - 0s 3ms/step - loss: 0.1163 - accuracy: 0.9729 - val_loss: 0.1217 - val_accuracy: 0.9694\n"
     ]
    },
    {
     "data": {
      "text/plain": [
       "<keras.callbacks.History at 0x1bbe6427370>"
      ]
     },
     "execution_count": 235,
     "metadata": {},
     "output_type": "execute_result"
    }
   ],
   "source": [
    "model.fit(X_train, y_train, epochs=10, validation_data=(X_test, y_test))"
   ]
  },
  {
   "cell_type": "markdown",
   "metadata": {},
   "source": [
    "## Testing the model"
   ]
  },
  {
   "cell_type": "code",
   "execution_count": 239,
   "metadata": {},
   "outputs": [
    {
     "name": "stdout",
     "output_type": "stream",
     "text": [
      "12/12 [==============================] - 0s 2ms/step - loss: 0.1217 - accuracy: 0.9694\n",
      "Test Loss: 0.12169692665338516\n",
      "Test Accuracy: 0.9694444537162781\n"
     ]
    }
   ],
   "source": [
    "loss, accuracy = model.evaluate(X_test, y_test)\n",
    "print(f'Test Loss: {loss}')\n",
    "print(f'Test Accuracy: {accuracy}')"
   ]
  }
 ],
 "metadata": {
  "kernelspec": {
   "display_name": "base",
   "language": "python",
   "name": "python3"
  },
  "language_info": {
   "codemirror_mode": {
    "name": "ipython",
    "version": 3
   },
   "file_extension": ".py",
   "mimetype": "text/x-python",
   "name": "python",
   "nbconvert_exporter": "python",
   "pygments_lexer": "ipython3",
   "version": "3.10.8"
  }
 },
 "nbformat": 4,
 "nbformat_minor": 2
}
